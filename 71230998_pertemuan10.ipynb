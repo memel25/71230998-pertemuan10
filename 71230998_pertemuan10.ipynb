{
 "cells": [
  {
   "cell_type": "code",
   "execution_count": 3,
   "id": "4855f147",
   "metadata": {},
   "outputs": [
    {
     "name": "stdout",
     "output_type": "stream",
     "text": [
      "[25, 65, 100]\n"
     ]
    }
   ],
   "source": [
    "nilai = [100, 20, 1 , 25, 65]\n",
    "nilai.sort()\n",
    "print(nilai[-3:])"
   ]
  },
  {
   "cell_type": "code",
   "execution_count": null,
   "id": "264bee67",
   "metadata": {},
   "outputs": [],
   "source": [
    "data = []\n",
    "while True :\n",
    "    userinput = input(\"Silahkan masukanangka: \")\n",
    "    if userinput == \"done\":\n",
    "        break\n",
    "    else: \n",
    "        inputlagi = int(input(\"Masukan angka\"))\n",
    "        data.append(inputlagi)\n",
    "print(f\"data list anda : {data}\")\n",
    "print(f\"nilai terkecilnya :{min(data)}\")\n",
    "print(f\"nilai terbesarnya :{max(data)}\")"
   ]
  },
  {
   "cell_type": "code",
   "execution_count": null,
   "id": "9381e80e",
   "metadata": {},
   "outputs": [],
   "source": [
    "with open(\"artikel.txt\", \"r\") as f:\n",
    "       isif = f.read()\n",
    "           print(isif)\n",
    "\n",
    "yangunik = []\n",
    "\n",
    "kata = isif.split()\n",
    "for k in kata:\n",
    "      if k not in yangunik:\n",
    "            yangunik.append(kata.strip(',?!.')\n",
    "                             \n",
    "print(yangunik)"
   ]
  }
 ],
 "metadata": {
  "kernelspec": {
   "display_name": "Python 3 (ipykernel)",
   "language": "python",
   "name": "python3"
  },
  "language_info": {
   "codemirror_mode": {
    "name": "ipython",
    "version": 3
   },
   "file_extension": ".py",
   "mimetype": "text/x-python",
   "name": "python",
   "nbconvert_exporter": "python",
   "pygments_lexer": "ipython3",
   "version": "3.11.5"
  }
 },
 "nbformat": 4,
 "nbformat_minor": 5
}
